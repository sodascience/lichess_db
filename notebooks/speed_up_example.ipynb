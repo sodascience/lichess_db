{
 "cells": [
  {
   "cell_type": "code",
   "execution_count": 10,
   "id": "a0009791-c38a-470c-b783-56adf4cf01ba",
   "metadata": {},
   "outputs": [],
   "source": [
    "import io\n",
    "import json\n",
    "import re\n",
    "import requests\n",
    "from tqdm.notebook import tqdm\n",
    "import zstandard as zstd\n",
    "import polars as pl"
   ]
  },
  {
   "cell_type": "code",
   "execution_count": 11,
   "id": "ecabe128-654b-4bf4-a942-99c8faa50e1c",
   "metadata": {},
   "outputs": [],
   "source": [
    "def _convert_to_polars(path) -> pl.DataFrame:\n",
    "    \"\"\"Creates a cleaned dataframe from a list of lichess header dicts.\"\"\"\n",
    "    return (\n",
    "        # create dataframe\n",
    "        pl.read_ndjson(path)\n",
    "        # transform all ? values into nulls\n",
    "        # see here: https://stackoverflow.com/a/74816042\n",
    "        .with_columns(pl.when(pl.all() != \"?\").then(pl.all()))\n",
    "        # now, do light data transformation\n",
    "        .with_columns(\n",
    "            pl.when(pl.col(\"Result\") == \"0-1\")\n",
    "            .then(pl.lit(\"Black\"))\n",
    "            .otherwise(pl.lit(\"White\"))\n",
    "            .cast(pl.Categorical)\n",
    "            .alias(\"Winner\"),\n",
    "            pl.col(\n",
    "                [\"WhiteElo\", \"BlackElo\", \"WhiteRatingDiff\", \"BlackRatingDiff\"]\n",
    "            ).cast(pl.Int32),\n",
    "            pl.col(\"UTCDate\").str.to_date(format=\"%Y.%m.%d\"),\n",
    "            pl.col(\"UTCTime\").str.to_time(),\n",
    "            pl.col(\"Site\").str.replace(\"https://lichess.org/\", \"\").alias(\"ID\"),\n",
    "        )\n",
    "        # lastly, select only what we need\n",
    "        .select(\n",
    "            [\n",
    "                \"ID\",\n",
    "                \"UTCDate\",\n",
    "                \"UTCTime\",\n",
    "                \"Winner\",\n",
    "                \"White\",\n",
    "                \"Black\",\n",
    "                \"WhiteElo\",\n",
    "                \"BlackElo\",\n",
    "                \"WhiteRatingDiff\",\n",
    "                \"BlackRatingDiff\",\n",
    "                \"ECO\",\n",
    "                \"Opening\",\n",
    "                \"TimeControl\",\n",
    "                \"Termination\",\n",
    "            ]\n",
    "        )\n",
    "    )"
   ]
  },
  {
   "cell_type": "code",
   "execution_count": 14,
   "id": "2e42b81e-2298-4ef8-b460-48b4d405f13a",
   "metadata": {
    "scrolled": true
   },
   "outputs": [],
   "source": [
    "# Data url\n",
    "def read_and_process(year, month, temp_file=\"temp.ndjson\", dir_parquet=\"../lichess_parquet\", size_parquet=10_000_000):\n",
    "    \"\"\"\n",
    "    Download, process, and convert chess games data from the Lichess database to Parquet format.\n",
    "\n",
    "    This function streams a dataset from the Lichess database, extracts chess game data,\n",
    "    and writes it to a temporary NDJSON file. Once a certain number of games are processed,\n",
    "    the data is converted to a Polars dataframe and saved to a Parquet file. This process repeats\n",
    "    until all games in the dataset have been processed and saved.\n",
    "\n",
    "    Parameters:\n",
    "        year (int): The year of the dataset to download.\n",
    "        month (str): The month of the dataset to download.\n",
    "        temp_file (str, optional): Path to the temporary NDJSON file used for processing. Defaults to \"temp.ndjson\".\n",
    "        dir_parquet (str, optional): Directory where Parquet files will be saved. Defaults to \"../lichess_parquet\".\n",
    "        size_parquet (int, optional): Number of games to process before saving to a Parquet file. Defaults to 10,000,000.\n",
    "\n",
    "    The function constructs a URL to stream the dataset from, uses regular expressions to parse the data,\n",
    "    and utilizes Zstandard for decompression. Progress is tracked and displayed using a progress bar.\n",
    "\n",
    "    The final dataset is written into the `dir_parquet` directory with a filename based on the `year`, `month`, \n",
    "    and a sequential number indicating the split of Parquet files.\n",
    "\n",
    "    Example:\n",
    "        read_and_process(2023, '01') # This will process games from January 2023.\n",
    "    \"\"\"\n",
    "    # Your function implementation...\n",
    "\n",
    "    url = f\"https://database.lichess.org/standard/lichess_db_standard_rated_{year}-{month}.pgn.zst\"\n",
    "    \n",
    "    # Pattern to split lines with format [key\\s\"info\"]\n",
    "    pattern = re.compile('\\[(.*?)\\s\"(.*)\"\\]')\n",
    "\n",
    "    # Set up the decompressor\n",
    "    decompressor = zstd.ZstdDecompressor(max_window_size=2**31)\n",
    "    \n",
    "    # Make a get request with streaming enabled. Open a temporary file\n",
    "    with requests.get(url, stream=True) as response, open(temp_file, \"w+\") as fout:\n",
    "        num_games_processed = 1\n",
    "        num_bytes = int(response.headers.get(\"content-length\", 0))\n",
    "        # Decompress the response on the fly and read it line by line\n",
    "        reader = decompressor.stream_reader(response.raw)\n",
    "        text_stream = io.TextIOWrapper(reader, encoding='utf-8')\n",
    "    \n",
    "        num_files = 0\n",
    "        looking_for_game = True\n",
    "        game = []\n",
    "        \n",
    "        # Start progres bar (approximate bytes since the raw file is compressed and we are uncompressing on the fly)\n",
    "        progress_bar = tqdm(total=num_bytes*5.2, unit=\"iB\", unit_scale=True, miniters=100)\n",
    "        for line in text_stream:\n",
    "            progress_bar.update(len(line))\n",
    "            if looking_for_game: # Looking for the start of the game\n",
    "                if line.startswith(\"[\"):\n",
    "                    looking_for_game = False\n",
    "            else:\n",
    "                if not line.startswith(\"[\"): # Game just ended, dump to NDJSON file\n",
    "                    looking_for_game = True\n",
    "                    fout.write(json.dumps(dict(game))+\"\\n\")\n",
    "                    num_games_processed += 1\n",
    "                    game = []\n",
    "                else: # Game continues, keep appending\n",
    "                    game.append(re.findall(pattern,line)[0])\n",
    "    \n",
    "            #Process every 10M lines\n",
    "            if (num_games_processed % size_parquet) == 0:\n",
    "                fout.flush()\n",
    "                df = _convert_to_polars(temp_file)\n",
    "                df.to_parquet(f\"{dir_parquet}/{year}_{month}_{num_files}.parquet\")\n",
    "                fout.seek(0)  # Seek to the beginning of the file\n",
    "                fout.truncate()  # Clear the contents of the file\n",
    "                num_files += 1\n",
    "    \n",
    "        # Clean up\n",
    "        progress_bar.close()\n",
    "\n",
    "    # Leftover games\n",
    "    df = _convert_to_polars(temp_file)\n",
    "    df.write_parquet(f\"{dir_parquet}/{year}_{month}_{num_files}.parquet\")\n"
   ]
  },
  {
   "cell_type": "code",
   "execution_count": 15,
   "id": "e4c0c519-e7e6-439d-8f37-223f3fe4df0e",
   "metadata": {},
   "outputs": [
    {
     "data": {
      "application/vnd.jupyter.widget-view+json": {
       "model_id": "12be2e68951747af90c434d9515f0db8",
       "version_major": 2,
       "version_minor": 0
      },
      "text/plain": [
       "  0%|          | 0.00/92.4M [00:00<?, ?iB/s]"
      ]
     },
     "metadata": {},
     "output_type": "display_data"
    }
   ],
   "source": [
    "read_and_process(\"2013\", \"01\")"
   ]
  },
  {
   "cell_type": "code",
   "execution_count": null,
   "id": "283da9a9-2881-45bb-8145-24611e5cffd0",
   "metadata": {},
   "outputs": [],
   "source": []
  }
 ],
 "metadata": {
  "kernelspec": {
   "display_name": "Python 3 (ipykernel)",
   "language": "python",
   "name": "python3"
  },
  "language_info": {
   "codemirror_mode": {
    "name": "ipython",
    "version": 3
   },
   "file_extension": ".py",
   "mimetype": "text/x-python",
   "name": "python",
   "nbconvert_exporter": "python",
   "pygments_lexer": "ipython3",
   "version": "3.10.1"
  }
 },
 "nbformat": 4,
 "nbformat_minor": 5
}
